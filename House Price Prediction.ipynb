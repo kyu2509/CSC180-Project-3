{
 "cells": [
  {
   "cell_type": "code",
   "execution_count": 126,
   "metadata": {},
   "outputs": [],
   "source": [
    "import seaborn as sns\n",
    "import os\n",
    "import pandas as pd\n",
    "import matplotlib.pyplot as plt\n",
    "\n",
    "import csv\n",
    "import numpy as np\n",
    "%matplotlib inline\n",
    "\n",
    "import cv2\n",
    "import glob\n",
    "from IPython.display import Image"
   ]
  },
  {
   "cell_type": "code",
   "execution_count": 127,
   "metadata": {},
   "outputs": [
    {
     "data": {
      "text/html": [
       "<div>\n",
       "<style scoped>\n",
       "    .dataframe tbody tr th:only-of-type {\n",
       "        vertical-align: middle;\n",
       "    }\n",
       "\n",
       "    .dataframe tbody tr th {\n",
       "        vertical-align: top;\n",
       "    }\n",
       "\n",
       "    .dataframe thead th {\n",
       "        text-align: right;\n",
       "    }\n",
       "</style>\n",
       "<table border=\"1\" class=\"dataframe\">\n",
       "  <thead>\n",
       "    <tr style=\"text-align: right;\">\n",
       "      <th></th>\n",
       "      <th>Bedrooms</th>\n",
       "      <th>Bathrooms</th>\n",
       "      <th>area</th>\n",
       "      <th>zipcode</th>\n",
       "      <th>price</th>\n",
       "    </tr>\n",
       "  </thead>\n",
       "  <tbody>\n",
       "    <tr>\n",
       "      <th>0</th>\n",
       "      <td>4</td>\n",
       "      <td>4.0</td>\n",
       "      <td>4053</td>\n",
       "      <td>85255</td>\n",
       "      <td>869500</td>\n",
       "    </tr>\n",
       "    <tr>\n",
       "      <th>1</th>\n",
       "      <td>4</td>\n",
       "      <td>3.0</td>\n",
       "      <td>3343</td>\n",
       "      <td>36372</td>\n",
       "      <td>865200</td>\n",
       "    </tr>\n",
       "    <tr>\n",
       "      <th>2</th>\n",
       "      <td>3</td>\n",
       "      <td>4.0</td>\n",
       "      <td>3923</td>\n",
       "      <td>85266</td>\n",
       "      <td>889000</td>\n",
       "    </tr>\n",
       "    <tr>\n",
       "      <th>6</th>\n",
       "      <td>3</td>\n",
       "      <td>4.0</td>\n",
       "      <td>2544</td>\n",
       "      <td>85262</td>\n",
       "      <td>799000</td>\n",
       "    </tr>\n",
       "    <tr>\n",
       "      <th>10</th>\n",
       "      <td>5</td>\n",
       "      <td>5.0</td>\n",
       "      <td>4829</td>\n",
       "      <td>85266</td>\n",
       "      <td>519200</td>\n",
       "    </tr>\n",
       "  </tbody>\n",
       "</table>\n",
       "</div>"
      ],
      "text/plain": [
       "    Bedrooms  Bathrooms  area  zipcode   price\n",
       "0          4        4.0  4053    85255  869500\n",
       "1          4        3.0  3343    36372  865200\n",
       "2          3        4.0  3923    85266  889000\n",
       "6          3        4.0  2544    85262  799000\n",
       "10         5        5.0  4829    85266  519200"
      ]
     },
     "execution_count": 127,
     "metadata": {},
     "output_type": "execute_result"
    }
   ],
   "source": [
    "filename_read = os.path.join(\"data/HousesInfo.txt\")\n",
    "cols=[\"Bedrooms\",\"Bathrooms\",\"area\",\"zipcode\",\"price\"]\n",
    "df = pd.read_csv(filename_read , sep=\" \", header=None , names=cols)\n",
    "\n",
    "# Drop rows where housing_price is below 100K or above 900K\n",
    "df = df[(df['price'] >= 100000) & (df['price'] <= 900000)]\n",
    "df.head()\n"
   ]
  },
  {
   "cell_type": "code",
   "execution_count": 128,
   "metadata": {},
   "outputs": [
    {
     "data": {
      "text/plain": [
       "(406, 5)"
      ]
     },
     "execution_count": 128,
     "metadata": {},
     "output_type": "execute_result"
    }
   ],
   "source": [
    "df.shape"
   ]
  },
  {
   "cell_type": "code",
   "execution_count": 129,
   "metadata": {},
   "outputs": [],
   "source": [
    "## Bathroom.jpg\n",
    "new_images=[]\n",
    "for number in range(1, 536):\n",
    "    for path in glob.glob(\"data/Houses dataset/\" + str(number) + \"_bathroom.jpg\"):\n",
    "        if os.path.isfile(path):\n",
    "            new_images.append(path) "
   ]
  },
  {
   "cell_type": "code",
   "execution_count": 130,
   "metadata": {},
   "outputs": [],
   "source": [
    "img= pd.DataFrame(new_images,columns = ['bathroom_img'])"
   ]
  },
  {
   "cell_type": "code",
   "execution_count": 131,
   "metadata": {},
   "outputs": [],
   "source": [
    "## bedroom images\n",
    "bedroom_images = []\n",
    "for number in range(1, 536):\n",
    "    for path in glob.glob(\"data/Houses dataset/\" + str(number) + \"_bedroom.jpg\"):\n",
    "        if os.path.isfile(path):\n",
    "            bedroom_images.append(path) "
   ]
  },
  {
   "cell_type": "code",
   "execution_count": 132,
   "metadata": {},
   "outputs": [],
   "source": [
    "img['bedroom_img']=bedroom_images"
   ]
  },
  {
   "cell_type": "code",
   "execution_count": 133,
   "metadata": {},
   "outputs": [],
   "source": [
    "frontal_images = []\n",
    "for number in range(1, 536):\n",
    "    for path in glob.glob(\"data/Houses dataset/\" + str(number) + \"_frontal.jpg\"):\n",
    "        if os.path.isfile(path):\n",
    "            frontal_images.append(path) "
   ]
  },
  {
   "cell_type": "code",
   "execution_count": 134,
   "metadata": {},
   "outputs": [],
   "source": [
    "img['frontal_img']=frontal_images"
   ]
  },
  {
   "cell_type": "code",
   "execution_count": 135,
   "metadata": {},
   "outputs": [],
   "source": [
    "kitchen_images = []\n",
    "for number in range(1, 536):\n",
    "    for path in glob.glob(\"data/Houses dataset/\" + str(number) + \"_kitchen.jpg\"):\n",
    "        if os.path.isfile(path):\n",
    "            kitchen_images.append(path) "
   ]
  },
  {
   "cell_type": "code",
   "execution_count": 136,
   "metadata": {},
   "outputs": [],
   "source": [
    "img['kitchen_img']=kitchen_images"
   ]
  },
  {
   "cell_type": "code",
   "execution_count": 137,
   "metadata": {},
   "outputs": [
    {
     "data": {
      "text/html": [
       "<div>\n",
       "<style scoped>\n",
       "    .dataframe tbody tr th:only-of-type {\n",
       "        vertical-align: middle;\n",
       "    }\n",
       "\n",
       "    .dataframe tbody tr th {\n",
       "        vertical-align: top;\n",
       "    }\n",
       "\n",
       "    .dataframe thead th {\n",
       "        text-align: right;\n",
       "    }\n",
       "</style>\n",
       "<table border=\"1\" class=\"dataframe\">\n",
       "  <thead>\n",
       "    <tr style=\"text-align: right;\">\n",
       "      <th></th>\n",
       "      <th>bathroom_img</th>\n",
       "      <th>bedroom_img</th>\n",
       "      <th>frontal_img</th>\n",
       "      <th>kitchen_img</th>\n",
       "    </tr>\n",
       "  </thead>\n",
       "  <tbody>\n",
       "    <tr>\n",
       "      <th>0</th>\n",
       "      <td>data/Houses dataset/1_bathroom.jpg</td>\n",
       "      <td>data/Houses dataset/1_bedroom.jpg</td>\n",
       "      <td>data/Houses dataset/1_frontal.jpg</td>\n",
       "      <td>data/Houses dataset/1_kitchen.jpg</td>\n",
       "    </tr>\n",
       "    <tr>\n",
       "      <th>1</th>\n",
       "      <td>data/Houses dataset/2_bathroom.jpg</td>\n",
       "      <td>data/Houses dataset/2_bedroom.jpg</td>\n",
       "      <td>data/Houses dataset/2_frontal.jpg</td>\n",
       "      <td>data/Houses dataset/2_kitchen.jpg</td>\n",
       "    </tr>\n",
       "    <tr>\n",
       "      <th>2</th>\n",
       "      <td>data/Houses dataset/3_bathroom.jpg</td>\n",
       "      <td>data/Houses dataset/3_bedroom.jpg</td>\n",
       "      <td>data/Houses dataset/3_frontal.jpg</td>\n",
       "      <td>data/Houses dataset/3_kitchen.jpg</td>\n",
       "    </tr>\n",
       "    <tr>\n",
       "      <th>3</th>\n",
       "      <td>data/Houses dataset/4_bathroom.jpg</td>\n",
       "      <td>data/Houses dataset/4_bedroom.jpg</td>\n",
       "      <td>data/Houses dataset/4_frontal.jpg</td>\n",
       "      <td>data/Houses dataset/4_kitchen.jpg</td>\n",
       "    </tr>\n",
       "    <tr>\n",
       "      <th>4</th>\n",
       "      <td>data/Houses dataset/5_bathroom.jpg</td>\n",
       "      <td>data/Houses dataset/5_bedroom.jpg</td>\n",
       "      <td>data/Houses dataset/5_frontal.jpg</td>\n",
       "      <td>data/Houses dataset/5_kitchen.jpg</td>\n",
       "    </tr>\n",
       "  </tbody>\n",
       "</table>\n",
       "</div>"
      ],
      "text/plain": [
       "                         bathroom_img                        bedroom_img  \\\n",
       "0  data/Houses dataset/1_bathroom.jpg  data/Houses dataset/1_bedroom.jpg   \n",
       "1  data/Houses dataset/2_bathroom.jpg  data/Houses dataset/2_bedroom.jpg   \n",
       "2  data/Houses dataset/3_bathroom.jpg  data/Houses dataset/3_bedroom.jpg   \n",
       "3  data/Houses dataset/4_bathroom.jpg  data/Houses dataset/4_bedroom.jpg   \n",
       "4  data/Houses dataset/5_bathroom.jpg  data/Houses dataset/5_bedroom.jpg   \n",
       "\n",
       "                         frontal_img                        kitchen_img  \n",
       "0  data/Houses dataset/1_frontal.jpg  data/Houses dataset/1_kitchen.jpg  \n",
       "1  data/Houses dataset/2_frontal.jpg  data/Houses dataset/2_kitchen.jpg  \n",
       "2  data/Houses dataset/3_frontal.jpg  data/Houses dataset/3_kitchen.jpg  \n",
       "3  data/Houses dataset/4_frontal.jpg  data/Houses dataset/4_kitchen.jpg  \n",
       "4  data/Houses dataset/5_frontal.jpg  data/Houses dataset/5_kitchen.jpg  "
      ]
     },
     "execution_count": 137,
     "metadata": {},
     "output_type": "execute_result"
    }
   ],
   "source": [
    "img.head()"
   ]
  },
  {
   "cell_type": "code",
   "execution_count": 138,
   "metadata": {},
   "outputs": [
    {
     "name": "stdout",
     "output_type": "stream",
     "text": [
      "Filtered DataFrame:\n",
      "     Bedrooms  Bathrooms  area  zipcode   price\n",
      "0           4        4.0  4053    85255  869500\n",
      "1           4        3.0  3343    36372  865200\n",
      "2           3        4.0  3923    85266  889000\n",
      "6           3        4.0  2544    85262  799000\n",
      "10          5        5.0  4829    85266  519200\n",
      "..        ...        ...   ...      ...     ...\n",
      "530         5        2.0  2066    94531  399900\n",
      "531         4        3.5  9536    94531  460000\n",
      "532         3        2.0  2014    94531  407000\n",
      "533         4        3.0  2312    94531  419000\n",
      "534         5        3.0  3796    94531  615000\n",
      "\n",
      "[406 rows x 5 columns]\n",
      "\n",
      "Filtered Images DataFrame:\n",
      "                             bathroom_img  \\\n",
      "0      data/Houses dataset/1_bathroom.jpg   \n",
      "1      data/Houses dataset/2_bathroom.jpg   \n",
      "2      data/Houses dataset/3_bathroom.jpg   \n",
      "3      data/Houses dataset/7_bathroom.jpg   \n",
      "4     data/Houses dataset/11_bathroom.jpg   \n",
      "..                                    ...   \n",
      "401  data/Houses dataset/531_bathroom.jpg   \n",
      "402  data/Houses dataset/532_bathroom.jpg   \n",
      "403  data/Houses dataset/533_bathroom.jpg   \n",
      "404  data/Houses dataset/534_bathroom.jpg   \n",
      "405  data/Houses dataset/535_bathroom.jpg   \n",
      "\n",
      "                             bedroom_img                          frontal_img  \\\n",
      "0      data/Houses dataset/1_bedroom.jpg    data/Houses dataset/1_frontal.jpg   \n",
      "1      data/Houses dataset/2_bedroom.jpg    data/Houses dataset/2_frontal.jpg   \n",
      "2      data/Houses dataset/3_bedroom.jpg    data/Houses dataset/3_frontal.jpg   \n",
      "3      data/Houses dataset/7_bedroom.jpg    data/Houses dataset/7_frontal.jpg   \n",
      "4     data/Houses dataset/11_bedroom.jpg   data/Houses dataset/11_frontal.jpg   \n",
      "..                                   ...                                  ...   \n",
      "401  data/Houses dataset/531_bedroom.jpg  data/Houses dataset/531_frontal.jpg   \n",
      "402  data/Houses dataset/532_bedroom.jpg  data/Houses dataset/532_frontal.jpg   \n",
      "403  data/Houses dataset/533_bedroom.jpg  data/Houses dataset/533_frontal.jpg   \n",
      "404  data/Houses dataset/534_bedroom.jpg  data/Houses dataset/534_frontal.jpg   \n",
      "405  data/Houses dataset/535_bedroom.jpg  data/Houses dataset/535_frontal.jpg   \n",
      "\n",
      "                             kitchen_img  \n",
      "0      data/Houses dataset/1_kitchen.jpg  \n",
      "1      data/Houses dataset/2_kitchen.jpg  \n",
      "2      data/Houses dataset/3_kitchen.jpg  \n",
      "3      data/Houses dataset/7_kitchen.jpg  \n",
      "4     data/Houses dataset/11_kitchen.jpg  \n",
      "..                                   ...  \n",
      "401  data/Houses dataset/531_kitchen.jpg  \n",
      "402  data/Houses dataset/532_kitchen.jpg  \n",
      "403  data/Houses dataset/533_kitchen.jpg  \n",
      "404  data/Houses dataset/534_kitchen.jpg  \n",
      "405  data/Houses dataset/535_kitchen.jpg  \n",
      "\n",
      "[406 rows x 4 columns]\n"
     ]
    }
   ],
   "source": [
    "#valid_indices = df.index\n",
    "\n",
    "df.reset_index(drop=True, inplace=True)  # Reset the index after filtering\n",
    "\n",
    "# Filter the images_df based on the new indices of df\n",
    "filtered_images_df = img[img.index.isin(df.index)].reset_index(drop=True)\n",
    "\n",
    "# At this point, df and filtered_images_df should have matching indices\n",
    "print(\"Filtered DataFrame:\")\n",
    "print(df)\n",
    "\n",
    "print(\"\\nFiltered Images DataFrame:\")\n",
    "print(filtered_images_df)"
   ]
  },
  {
   "cell_type": "code",
   "execution_count": 139,
   "metadata": {},
   "outputs": [],
   "source": [
    "images_output=[]\n",
    "for row_index,row in img.iterrows():\n",
    "            inputImages=[]\n",
    "            outputImage = np.zeros((128, 128, 3), dtype=\"uint8\")\n",
    "            image_temp1 = cv2.imread(row.bathroom_img)\n",
    "            image1 = cv2.resize(image_temp1, (64 , 64))\n",
    "            \n",
    "            image_temp2 = cv2.imread(row.bedroom_img)\n",
    "            image2 = cv2.resize(image_temp2, (64 , 64))\n",
    "            \n",
    "            image_temp3 = cv2.imread(row.frontal_img)\n",
    "            image3 = cv2.resize(image_temp3, (64 , 64))\n",
    "            \n",
    "            image_temp4 = cv2.imread(row.kitchen_img)\n",
    "            image4 = cv2.resize(image_temp4, (64 , 64))\n",
    "              \n",
    "            inputImages.append(image1)\n",
    "            inputImages.append(image2)\n",
    "            inputImages.append(image3)\n",
    "            inputImages.append(image4)\n",
    "            \n",
    "            outputImage[0:64, 0:64] = inputImages[0]\n",
    "            outputImage[0:64, 64:128] = inputImages[1]\n",
    "            outputImage[64:128, 64:128] = inputImages[2]\n",
    "            outputImage[64:128, 0:64] = inputImages[3]\n",
    "            \n",
    "        \n",
    "            images_output.append(outputImage)  "
   ]
  },
  {
   "cell_type": "code",
   "execution_count": 140,
   "metadata": {},
   "outputs": [
    {
     "data": {
      "image/png": "[encoded data removed]",
      "text/plain": [
       "<Figure size 800x800 with 1 Axes>"
      ]
     },
     "metadata": {},
     "output_type": "display_data"
    }
   ],
   "source": [
    "from matplotlib import pyplot as plt\n",
    "\n",
    "for i in images_output[:1]:\n",
    "     plt.figure(figsize=(8,8))\n",
    "     plt.imshow(i, interpolation='nearest')\n",
    "     plt.show()"
   ]
  },
  {
   "cell_type": "code",
   "execution_count": 141,
   "metadata": {},
   "outputs": [
    {
     "data": {
      "text/plain": [
       "(535, 128, 128, 3)"
      ]
     },
     "execution_count": 141,
     "metadata": {},
     "output_type": "execute_result"
    }
   ],
   "source": [
    "img_arr=np.asarray(images_output)\n",
    "img_arr.shape"
   ]
  },
  {
   "cell_type": "markdown",
   "metadata": {},
   "source": [
    "## Next, using functional API, you create DENSE and CNN models to feed text and image to them seperately. \n",
    "### TensorFlow Functional API to extract visual, features from house photos and combining them with the house’s textual information\n",
    "### a novel house price estimation system by using both textual and visual inputs"
   ]
  },
  {
   "cell_type": "code",
   "execution_count": 142,
   "metadata": {},
   "outputs": [],
   "source": [
    "from collections.abc import Sequence\n",
    "from sklearn import preprocessing\n",
    "import matplotlib.pyplot as plt\n",
    "import numpy as np\n",
    "import pandas as pd\n",
    "\n",
    "import random\n",
    "from matplotlib.pyplot import figure, show\n",
    "from sklearn.model_selection import train_test_split\n",
    "import os\n",
    "from sklearn import metrics\n",
    "from sklearn.feature_extraction.text import TfidfVectorizer\n",
    "from tensorflow.keras.models import Sequential\n",
    "from tensorflow.keras.layers import Dense, Activation, Dropout\n",
    "from tensorflow.keras.callbacks import EarlyStopping\n",
    "from tensorflow.keras.callbacks import ModelCheckpoint\n",
    "from tensorflow.keras import optimizers\n",
    "\n",
    "\n",
    "# Encode text values to dummy variables(i.e. [1,0,0],[0,1,0],[0,0,1] for red,green,blue)\n",
    "def encode_text_dummy(df, name):\n",
    "    dummies = pd.get_dummies(df[name])\n",
    "    for x in dummies.columns:\n",
    "        dummy_name = \"{}-{}\".format(name, x)\n",
    "        df[dummy_name] = dummies[x]\n",
    "    df.drop(name, axis=1, inplace=True)\n",
    "\n",
    "\n",
    "# Encode text values to indexes(i.e. [1],[2],[3] for red,green,blue).\n",
    "def encode_text_index(df, name):\n",
    "    le = preprocessing.LabelEncoder()\n",
    "    df[name] = le.fit_transform(df[name])\n",
    "    return le.classes_\n",
    "\n",
    "\n",
    "# Encode a numeric column as zscores\n",
    "def encode_numeric_zscore(df, name, mean=None, sd=None):\n",
    "    if mean is None:\n",
    "        mean = df[name].mean()\n",
    "\n",
    "    if sd is None:\n",
    "        sd = df[name].std()\n",
    "\n",
    "    df[name] = (df[name] - mean) / sd\n",
    "\n",
    "\n",
    "# Convert all missing values in the specified column to the median\n",
    "def missing_median(df, name):\n",
    "    med = df[name].median()\n",
    "    df[name] = df[name].fillna(med)\n",
    "\n",
    "\n",
    "# Convert all missing values in the specified column to the default\n",
    "def missing_default(df, name, default_value):\n",
    "    df[name] = df[name].fillna(default_value)\n",
    "\n",
    "\n",
    "# Convert a Pandas dataframe to the x,y inputs that TensorFlow needs\n",
    "def to_xy(df, target):\n",
    "    result = []\n",
    "    for x in df.columns:\n",
    "        if x != target:\n",
    "            result.append(x)\n",
    "    # find out the type of the target column.\n",
    "    target_type = df[target].dtypes\n",
    "    target_type = target_type[0] if isinstance(target_type, Sequence) else target_type\n",
    "    # Encode to int for classification, float otherwise. TensorFlow likes 32 bits.\n",
    "    if target_type in (np.int64, np.int32):\n",
    "        # Classification\n",
    "        dummies = pd.get_dummies(df[target])\n",
    "        print('CLASS')\n",
    "        return df[result].values.astype(np.float32), dummies.values.astype(np.float32)\n",
    "    else:\n",
    "        # Regression\n",
    "        print('REG')\n",
    "        return df[result].values.astype(np.float32), df[target].values.astype(np.float32)\n",
    "\n",
    "# Nicely formatted time string\n",
    "def hms_string(sec_elapsed):\n",
    "    h = int(sec_elapsed / (60 * 60))\n",
    "    m = int((sec_elapsed % (60 * 60)) / 60)\n",
    "    s = sec_elapsed % 60\n",
    "    return \"{}:{:>02}:{:>05.2f}\".format(h, m, s)\n",
    "\n",
    "# Function to plot results\n",
    "def plot(results):\n",
    "    fig, ax = plt.subplots(figsize=(10, 6))\n",
    "\n",
    "    for activation in results['Activation'].unique():\n",
    "        subset = results[results['Activation'] == activation]\n",
    "        ax.plot(subset['Neurons'].astype(str), subset['RMSE'], marker='o', label=activation)\n",
    "\n",
    "    ax.set_title('Model Performance by Activation Function')\n",
    "    ax.set_xlabel('Layer Configuration (Neurons)')\n",
    "    ax.set_ylabel('RMSE')\n",
    "    ax.legend(title='Activation Function')\n",
    "    plt.xticks(rotation=45)\n",
    "    plt.grid()\n",
    "    plt.tight_layout()\n",
    "    plt.show()\n",
    "\n",
    "def chart_regression(pred,y,sort=True):\n",
    "    t = pd.DataFrame({'pred' : pred, 'y' : y.flatten()})\n",
    "    if sort:\n",
    "        t.sort_values(by=['y'],inplace=True)\n",
    "    plt.plot(t['pred'].tolist(), label='Prediction', color='orange')\n",
    "    plt.plot(t['y'].tolist(), label='Expected', color='blue')\n",
    "    plt.ylabel('output')\n",
    "    plt.legend()\n",
    "    plt.show()\n",
    "\n",
    "# Remove all rows where the specified column is +/- sd standard deviations\n",
    "def remove_outliers(df, name, sd):\n",
    "    drop_rows = df.index[(np.abs(df[name] - df[name].mean()) >= (sd * df[name].std()))]\n",
    "    df.drop(drop_rows, axis=0, inplace=True)\n",
    "    return df\n",
    "\n",
    "# Encode a column to a range between normalized_low and normalized_high.\n",
    "def encode_numeric_range(df, name, normalized_low=-1, normalized_high=1,\n",
    "                         data_low=None, data_high=None):\n",
    "    if data_low is None:\n",
    "        data_low = min(df[name])\n",
    "        data_high = max(df[name])\n",
    "\n",
    "    df[name] = ((df[name] - data_low) / (data_high - data_low)) \\\n",
    "               * (normalized_high - normalized_low) + normalized_low\n",
    "    \n"
   ]
  },
  {
   "cell_type": "code",
   "execution_count": 143,
   "metadata": {},
   "outputs": [
    {
     "data": {
      "text/plain": [
       "(406, 5)"
      ]
     },
     "execution_count": 143,
     "metadata": {},
     "output_type": "execute_result"
    }
   ],
   "source": [
    "# Send the expected numeric and categorical columns to normalization. \n",
    "NumericColumns = ['Bedrooms','Bathrooms','price']\n",
    "CategoricalColumns = ['area', 'zipcode']\n",
    "\n",
    "for i in NumericColumns:\n",
    "    encode_numeric_zscore(df,i)\n",
    "for i in CategoricalColumns:\n",
    "    encode_text_index(df,i)\n",
    "\n",
    "df.head()\n",
    "df.shape"
   ]
  },
  {
   "cell_type": "code",
   "execution_count": 144,
   "metadata": {},
   "outputs": [
    {
     "data": {
      "text/plain": [
       "(535, 128, 128, 3)"
      ]
     },
     "execution_count": 144,
     "metadata": {},
     "output_type": "execute_result"
    }
   ],
   "source": [
    "img_arr.shape\n"
   ]
  }
 ],
 "metadata": {
  "kernelspec": {
   "display_name": "Python 3",
   "language": "python",
   "name": "python3"
  },
  "language_info": {
   "codemirror_mode": {
    "name": "ipython",
    "version": 3
   },
   "file_extension": ".py",
   "mimetype": "text/x-python",
   "name": "python",
   "nbconvert_exporter": "python",
   "pygments_lexer": "ipython3",
   "version": "3.12.5"
  }
 },
 "nbformat": 4,
 "nbformat_minor": 2
}
